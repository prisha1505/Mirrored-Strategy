{
  "cells": [
    {
      "cell_type": "markdown",
      "metadata": {
        "id": "view-in-github",
        "colab_type": "text"
      },
      "source": [
        "<a href=\"https://colab.research.google.com/github/prisha1505/Mirrored-Strategy/blob/main/C2_W4_Lab_1_basic_mirrored_strategy.ipynb\" target=\"_parent\"><img src=\"https://colab.research.google.com/assets/colab-badge.svg\" alt=\"Open In Colab\"/></a>"
      ]
    },
    {
      "cell_type": "markdown",
      "metadata": {
        "id": "T5e63QbP1Yno"
      },
      "source": [
        "<a href=\"https://colab.research.google.com/github/https-deeplearning-ai/tensorflow-3-public/blob/main/Course%202%20-%20Custom%20Training%20loops%2C%20Gradients%20and%20Distributed%20Training/Week%204%20-%20Distribution%20Strategy/C2_W4_Lab_1_basic-mirrored-strategy.ipynb\" target=\"_parent\"><img src=\"https://colab.research.google.com/assets/colab-badge.svg\" alt=\"Open In Colab\"/></a>"
      ]
    },
    {
      "cell_type": "markdown",
      "metadata": {
        "id": "1A105vd_1Yn5"
      },
      "source": [
        "# Mirrored Strategy: Basic\n",
        "\n",
        "some of the basics of applying [Mirrored Strategy](https://www.tensorflow.org/api_docs/python/tf/distribute/MirroredStrategy)."
      ]
    },
    {
      "cell_type": "markdown",
      "metadata": {
        "id": "XuCPv_kh1YoC"
      },
      "source": [
        "## Imports"
      ]
    },
    {
      "cell_type": "code",
      "execution_count": 1,
      "metadata": {
        "id": "TkUjfmKkflCd"
      },
      "outputs": [],
      "source": [
        "# Import TensorFlow and TensorFlow Datasets\n",
        "\n",
        "import tensorflow_datasets as tfds\n",
        "import tensorflow as tf\n",
        "tfds.disable_progress_bar()\n",
        "\n",
        "import os"
      ]
    },
    {
      "cell_type": "markdown",
      "metadata": {
        "id": "s7oNlUMT1YoK"
      },
      "source": [
        "Load the MNIST dataset and split it into training and test chunks."
      ]
    },
    {
      "cell_type": "code",
      "execution_count": 2,
      "metadata": {
        "colab": {
          "base_uri": "https://localhost:8080/"
        },
        "id": "eQN-PtIGgFtH",
        "outputId": "d16072ea-1d5c-4c68-bf38-00f84273083c"
      },
      "outputs": [
        {
          "output_type": "stream",
          "name": "stdout",
          "text": [
            "Downloading and preparing dataset 11.06 MiB (download: 11.06 MiB, generated: 21.00 MiB, total: 32.06 MiB) to ./data/mnist/3.0.1...\n",
            "Dataset mnist downloaded and prepared to ./data/mnist/3.0.1. Subsequent calls will reuse this data.\n"
          ]
        }
      ],
      "source": [
        "# Load the dataset we'll use for this lab\n",
        "datasets, info = tfds.load(name='mnist', with_info=True, as_supervised=True, data_dir='./data')\n",
        "\n",
        "mnist_train, mnist_test = datasets['train'], datasets['test']"
      ]
    },
    {
      "cell_type": "markdown",
      "metadata": {
        "id": "D7IW1f1B1YoT"
      },
      "source": [
        "Next, define `strategy` using the `MirroredStrategy()` class. Print to see the number of devices available.\n",
        "\n"
      ]
    },
    {
      "cell_type": "code",
      "execution_count": 3,
      "metadata": {
        "colab": {
          "base_uri": "https://localhost:8080/"
        },
        "id": "eCsDqWnDgNHr",
        "outputId": "7bf73cca-9fa2-4689-da84-29b7f8b3e2d0"
      },
      "outputs": [
        {
          "output_type": "stream",
          "name": "stdout",
          "text": [
            "Number of devices: 1\n"
          ]
        }
      ],
      "source": [
        "# Define the strategy to use and print the number of devices found\n",
        "strategy = tf.distribute.MirroredStrategy()\n",
        "print('Number of devices: {}'.format(strategy.num_replicas_in_sync))"
      ]
    },
    {
      "cell_type": "markdown",
      "metadata": {
        "id": "2wg7mLvt1Yoa"
      },
      "source": [
        "Next, create your training and test examples, define your batch size and also define `BATCH_SIZE_PER_REPLICA` which is the distribution you are making for each available device."
      ]
    },
    {
      "cell_type": "code",
      "execution_count": 4,
      "metadata": {
        "id": "p1xWxKcnhar9"
      },
      "outputs": [],
      "source": [
        "# Get the number of examples in the train and test sets\n",
        "num_train_examples = info.splits['train'].num_examples\n",
        "num_test_examples = info.splits['test'].num_examples\n",
        "\n",
        "BUFFER_SIZE = 10000\n",
        "\n",
        "BATCH_SIZE_PER_REPLICA = 64\n",
        "# Use for Mirrored Strategy\n",
        "BATCH_SIZE = BATCH_SIZE_PER_REPLICA * strategy.num_replicas_in_sync\n",
        "# Use for No Strategy\n",
        "# BATCH_SIZE = BATCH_SIZE_PER_REPLICA * 1"
      ]
    },
    {
      "cell_type": "markdown",
      "metadata": {
        "id": "INhqc_jW1Yof"
      },
      "source": [
        "A mapping function which normalizes your images:"
      ]
    },
    {
      "cell_type": "code",
      "execution_count": 5,
      "metadata": {
        "id": "aPIU8E7BhyYq"
      },
      "outputs": [],
      "source": [
        "# Function for normalizing the image\n",
        "def scale(image, label):\n",
        "    image = tf.cast(image, tf.float32)\n",
        "    image /= 255\n",
        "\n",
        "    return image, label"
      ]
    },
    {
      "cell_type": "markdown",
      "metadata": {
        "id": "OxEegPIy1Yoh"
      },
      "source": [
        "Next, create training and evaluation datesets in the batch size you want by shuffling through your buffer size."
      ]
    },
    {
      "cell_type": "code",
      "execution_count": 6,
      "metadata": {
        "id": "ByTZB2AYh0nA"
      },
      "outputs": [],
      "source": [
        "# Set up the train and eval data set\n",
        "train_dataset = mnist_train.map(scale).cache().shuffle(BUFFER_SIZE).batch(BATCH_SIZE)\n",
        "eval_dataset = mnist_test.map(scale).batch(BATCH_SIZE)"
      ]
    },
    {
      "cell_type": "markdown",
      "metadata": {
        "id": "4inOFDgg1Yoj"
      },
      "source": [
        "For model to follow the strategy, define  model within the strategy's scope.\n",
        "- Run all the cells below and notice the results.\n",
        "- Afterwards comment out `with strategy.scope():` and run everything again, without the strategy.\n",
        "Then we can compare the results.\n",
        "The important thing to notice and compare is the time taken for each epoch to complete. As mentioned in the lecture, doing a mirrored strategy on a single device (which our lab environment has) might take longer to train because of the overhead in implementing the strategy. With that, the advantages of using this strategy is more evident if you will use it on multiple devices."
      ]
    },
    {
      "cell_type": "code",
      "execution_count": 7,
      "metadata": {
        "id": "7rRzY5ojh51B"
      },
      "outputs": [],
      "source": [
        "# Use for Mirrored Strategy -- comment out `with strategy.scope():` and deindent for no strategy\n",
        "with strategy.scope():\n",
        "    model = tf.keras.Sequential([\n",
        "      tf.keras.layers.Conv2D(32, 3, activation='relu', input_shape=(28, 28, 1)),\n",
        "      tf.keras.layers.MaxPooling2D(),\n",
        "      tf.keras.layers.Flatten(),\n",
        "      tf.keras.layers.Dense(64, activation='relu'),\n",
        "      tf.keras.layers.Dense(10)\n",
        "    ])"
      ]
    },
    {
      "cell_type": "code",
      "execution_count": 8,
      "metadata": {
        "id": "NWOJWLENphod"
      },
      "outputs": [],
      "source": [
        "model.compile(loss=tf.keras.losses.SparseCategoricalCrossentropy(from_logits=True),\n",
        "                optimizer=tf.keras.optimizers.Adam(),\n",
        "                metrics=['accuracy'])"
      ]
    },
    {
      "cell_type": "code",
      "execution_count": 9,
      "metadata": {
        "colab": {
          "base_uri": "https://localhost:8080/"
        },
        "id": "-8voqkush_Bx",
        "outputId": "4473879b-ec4b-4268-e0f6-280f735be187"
      },
      "outputs": [
        {
          "output_type": "stream",
          "name": "stdout",
          "text": [
            "Epoch 1/12\n",
            "938/938 [==============================] - 15s 11ms/step - loss: 0.2061 - accuracy: 0.9401\n",
            "Epoch 2/12\n",
            "938/938 [==============================] - 5s 6ms/step - loss: 0.0682 - accuracy: 0.9798\n",
            "Epoch 3/12\n",
            "938/938 [==============================] - 4s 5ms/step - loss: 0.0472 - accuracy: 0.9853\n",
            "Epoch 4/12\n",
            "938/938 [==============================] - 8s 8ms/step - loss: 0.0363 - accuracy: 0.9892\n",
            "Epoch 5/12\n",
            "938/938 [==============================] - 5s 5ms/step - loss: 0.0268 - accuracy: 0.9918\n",
            "Epoch 6/12\n",
            "938/938 [==============================] - 6s 6ms/step - loss: 0.0211 - accuracy: 0.9934\n",
            "Epoch 7/12\n",
            "938/938 [==============================] - 6s 6ms/step - loss: 0.0147 - accuracy: 0.9956\n",
            "Epoch 8/12\n",
            "938/938 [==============================] - 5s 6ms/step - loss: 0.0120 - accuracy: 0.9963\n",
            "Epoch 9/12\n",
            "938/938 [==============================] - 5s 5ms/step - loss: 0.0087 - accuracy: 0.9973\n",
            "Epoch 10/12\n",
            "938/938 [==============================] - 5s 5ms/step - loss: 0.0076 - accuracy: 0.9976\n",
            "Epoch 11/12\n",
            "938/938 [==============================] - 5s 5ms/step - loss: 0.0066 - accuracy: 0.9978\n",
            "Epoch 12/12\n",
            "938/938 [==============================] - 5s 6ms/step - loss: 0.0055 - accuracy: 0.9983\n"
          ]
        },
        {
          "output_type": "execute_result",
          "data": {
            "text/plain": [
              "<keras.src.callbacks.History at 0x7b12bf3dece0>"
            ]
          },
          "metadata": {},
          "execution_count": 9
        }
      ],
      "source": [
        "model.fit(train_dataset, epochs=12)"
      ]
    }
  ],
  "metadata": {
    "accelerator": "GPU",
    "colab": {
      "provenance": [],
      "include_colab_link": true
    },
    "kernelspec": {
      "display_name": "Python 3",
      "language": "python",
      "name": "python3"
    },
    "language_info": {
      "codemirror_mode": {
        "name": "ipython",
        "version": 3
      },
      "file_extension": ".py",
      "mimetype": "text/x-python",
      "name": "python",
      "nbconvert_exporter": "python",
      "pygments_lexer": "ipython3",
      "version": "3.7.6"
    }
  },
  "nbformat": 4,
  "nbformat_minor": 0
}